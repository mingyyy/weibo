{
 "cells": [
  {
   "cell_type": "code",
   "execution_count": 1,
   "metadata": {},
   "outputs": [],
   "source": [
    "import pandas as pd\n",
    "import numpy as np\n",
    "import matplotlib.pyplot as plt\n",
    "\n",
    "path = 'https://raw.githubusercontent.com/KaiserW/weibo_hotsearch/master/weibo_hotsearch_2019_names_extracted.csv'\n",
    "df = pd.read_csv(path)"
   ]
  },
  {
   "cell_type": "code",
   "execution_count": 2,
   "metadata": {},
   "outputs": [
    {
     "data": {
      "text/html": [
       "<div>\n",
       "<style scoped>\n",
       "    .dataframe tbody tr th:only-of-type {\n",
       "        vertical-align: middle;\n",
       "    }\n",
       "\n",
       "    .dataframe tbody tr th {\n",
       "        vertical-align: top;\n",
       "    }\n",
       "\n",
       "    .dataframe thead th {\n",
       "        text-align: right;\n",
       "    }\n",
       "</style>\n",
       "<table border=\"1\" class=\"dataframe\">\n",
       "  <thead>\n",
       "    <tr style=\"text-align: right;\">\n",
       "      <th></th>\n",
       "      <th>count</th>\n",
       "      <th>date</th>\n",
       "      <th>keyword</th>\n",
       "      <th>rank</th>\n",
       "      <th>searchCount</th>\n",
       "      <th>url</th>\n",
       "      <th>cele_0</th>\n",
       "      <th>cele_1</th>\n",
       "    </tr>\n",
       "  </thead>\n",
       "  <tbody>\n",
       "    <tr>\n",
       "      <th>0</th>\n",
       "      <td>0 days 10:00:00.000000000</td>\n",
       "      <td>2019-01-01</td>\n",
       "      <td>赵丽颖怀孕</td>\n",
       "      <td>1</td>\n",
       "      <td>7273823</td>\n",
       "      <td>http://s.weibo.com/weibo?q=%23%E8%B5%B5%E4%B8%...</td>\n",
       "      <td>赵丽颖</td>\n",
       "      <td>NaN</td>\n",
       "    </tr>\n",
       "    <tr>\n",
       "      <th>1</th>\n",
       "      <td>0 days 17:20:00.000000000</td>\n",
       "      <td>2019-01-01</td>\n",
       "      <td>火箭少女车祸现场</td>\n",
       "      <td>1</td>\n",
       "      <td>3797183</td>\n",
       "      <td>http://s.weibo.com/weibo?q=%23%E7%81%AB%E7%AE%...</td>\n",
       "      <td>NaN</td>\n",
       "      <td>NaN</td>\n",
       "    </tr>\n",
       "    <tr>\n",
       "      <th>2</th>\n",
       "      <td>0 days 07:10:00.000000000</td>\n",
       "      <td>2019-01-01</td>\n",
       "      <td>张若昀唐艺昕咋还不结婚</td>\n",
       "      <td>1</td>\n",
       "      <td>3593667</td>\n",
       "      <td>http://s.weibo.com/weibo?q=%23%E5%BC%A0%E8%8B%...</td>\n",
       "      <td>张若昀</td>\n",
       "      <td>唐艺昕</td>\n",
       "    </tr>\n",
       "    <tr>\n",
       "      <th>3</th>\n",
       "      <td>0 days 14:50:00.000000000</td>\n",
       "      <td>2019-01-01</td>\n",
       "      <td>何炅救场</td>\n",
       "      <td>1</td>\n",
       "      <td>3580568</td>\n",
       "      <td>http://s.weibo.com/weibo?q=%23%E4%BD%95%E7%82%...</td>\n",
       "      <td>何炅</td>\n",
       "      <td>NaN</td>\n",
       "    </tr>\n",
       "    <tr>\n",
       "      <th>4</th>\n",
       "      <td>0 days 16:00:00.000000000</td>\n",
       "      <td>2019-01-01</td>\n",
       "      <td>赵丽颖表白冯绍峰</td>\n",
       "      <td>1</td>\n",
       "      <td>3370315</td>\n",
       "      <td>http://s.weibo.com/weibo?q=%23%E8%B5%B5%E4%B8%...</td>\n",
       "      <td>赵丽颖</td>\n",
       "      <td>冯绍峰</td>\n",
       "    </tr>\n",
       "  </tbody>\n",
       "</table>\n",
       "</div>"
      ],
      "text/plain": [
       "                       count        date      keyword  rank  searchCount  \\\n",
       "0  0 days 10:00:00.000000000  2019-01-01        赵丽颖怀孕     1      7273823   \n",
       "1  0 days 17:20:00.000000000  2019-01-01     火箭少女车祸现场     1      3797183   \n",
       "2  0 days 07:10:00.000000000  2019-01-01  张若昀唐艺昕咋还不结婚     1      3593667   \n",
       "3  0 days 14:50:00.000000000  2019-01-01         何炅救场     1      3580568   \n",
       "4  0 days 16:00:00.000000000  2019-01-01     赵丽颖表白冯绍峰     1      3370315   \n",
       "\n",
       "                                                 url cele_0 cele_1  \n",
       "0  http://s.weibo.com/weibo?q=%23%E8%B5%B5%E4%B8%...    赵丽颖    NaN  \n",
       "1  http://s.weibo.com/weibo?q=%23%E7%81%AB%E7%AE%...    NaN    NaN  \n",
       "2  http://s.weibo.com/weibo?q=%23%E5%BC%A0%E8%8B%...    张若昀    唐艺昕  \n",
       "3  http://s.weibo.com/weibo?q=%23%E4%BD%95%E7%82%...     何炅    NaN  \n",
       "4  http://s.weibo.com/weibo?q=%23%E8%B5%B5%E4%B8%...    赵丽颖    冯绍峰  "
      ]
     },
     "execution_count": 2,
     "metadata": {},
     "output_type": "execute_result"
    }
   ],
   "source": [
    "df.head()"
   ]
  },
  {
   "cell_type": "code",
   "execution_count": 11,
   "metadata": {},
   "outputs": [
    {
     "data": {
      "text/plain": [
       "count          object\n",
       "date           object\n",
       "keyword        object\n",
       "rank            int64\n",
       "searchCount     int64\n",
       "url            object\n",
       "cele_0         object\n",
       "cele_1         object\n",
       "dtype: object"
      ]
     },
     "execution_count": 11,
     "metadata": {},
     "output_type": "execute_result"
    }
   ],
   "source": [
    "df.dtypes"
   ]
  },
  {
   "cell_type": "code",
   "execution_count": 29,
   "metadata": {},
   "outputs": [
    {
     "data": {
      "text/html": [
       "<div>\n",
       "<style scoped>\n",
       "    .dataframe tbody tr th:only-of-type {\n",
       "        vertical-align: middle;\n",
       "    }\n",
       "\n",
       "    .dataframe tbody tr th {\n",
       "        vertical-align: top;\n",
       "    }\n",
       "\n",
       "    .dataframe thead th {\n",
       "        text-align: right;\n",
       "    }\n",
       "</style>\n",
       "<table border=\"1\" class=\"dataframe\">\n",
       "  <thead>\n",
       "    <tr style=\"text-align: right;\">\n",
       "      <th></th>\n",
       "      <th>count</th>\n",
       "      <th>date</th>\n",
       "      <th>keyword</th>\n",
       "      <th>rank</th>\n",
       "      <th>searchCount</th>\n",
       "      <th>url</th>\n",
       "      <th>cele_0</th>\n",
       "      <th>cele_1</th>\n",
       "    </tr>\n",
       "  </thead>\n",
       "  <tbody>\n",
       "    <tr>\n",
       "      <th>0</th>\n",
       "      <td>0 days 10:00:00.000000000</td>\n",
       "      <td>2019-01-01</td>\n",
       "      <td>赵丽颖怀孕</td>\n",
       "      <td>1</td>\n",
       "      <td>7273823</td>\n",
       "      <td>http://s.weibo.com/weibo?q=%23%E8%B5%B5%E4%B8%...</td>\n",
       "      <td>赵丽颖</td>\n",
       "      <td>NaN</td>\n",
       "    </tr>\n",
       "    <tr>\n",
       "      <th>2</th>\n",
       "      <td>0 days 07:10:00.000000000</td>\n",
       "      <td>2019-01-01</td>\n",
       "      <td>张若昀唐艺昕咋还不结婚</td>\n",
       "      <td>1</td>\n",
       "      <td>3593667</td>\n",
       "      <td>http://s.weibo.com/weibo?q=%23%E5%BC%A0%E8%8B%...</td>\n",
       "      <td>张若昀</td>\n",
       "      <td>唐艺昕</td>\n",
       "    </tr>\n",
       "    <tr>\n",
       "      <th>3</th>\n",
       "      <td>0 days 14:50:00.000000000</td>\n",
       "      <td>2019-01-01</td>\n",
       "      <td>何炅救场</td>\n",
       "      <td>1</td>\n",
       "      <td>3580568</td>\n",
       "      <td>http://s.weibo.com/weibo?q=%23%E4%BD%95%E7%82%...</td>\n",
       "      <td>何炅</td>\n",
       "      <td>NaN</td>\n",
       "    </tr>\n",
       "    <tr>\n",
       "      <th>4</th>\n",
       "      <td>0 days 16:00:00.000000000</td>\n",
       "      <td>2019-01-01</td>\n",
       "      <td>赵丽颖表白冯绍峰</td>\n",
       "      <td>1</td>\n",
       "      <td>3370315</td>\n",
       "      <td>http://s.weibo.com/weibo?q=%23%E8%B5%B5%E4%B8%...</td>\n",
       "      <td>赵丽颖</td>\n",
       "      <td>冯绍峰</td>\n",
       "    </tr>\n",
       "    <tr>\n",
       "      <th>5</th>\n",
       "      <td>0 days 12:30:00.000000000</td>\n",
       "      <td>2019-01-01</td>\n",
       "      <td>王源眼睛被虫子咬了</td>\n",
       "      <td>1</td>\n",
       "      <td>3323069</td>\n",
       "      <td>http://s.weibo.com/weibo?q=%23%E7%8E%8B%E6%BA%...</td>\n",
       "      <td>王源</td>\n",
       "      <td>NaN</td>\n",
       "    </tr>\n",
       "  </tbody>\n",
       "</table>\n",
       "</div>"
      ],
      "text/plain": [
       "                       count        date      keyword  rank  searchCount  \\\n",
       "0  0 days 10:00:00.000000000  2019-01-01        赵丽颖怀孕     1      7273823   \n",
       "2  0 days 07:10:00.000000000  2019-01-01  张若昀唐艺昕咋还不结婚     1      3593667   \n",
       "3  0 days 14:50:00.000000000  2019-01-01         何炅救场     1      3580568   \n",
       "4  0 days 16:00:00.000000000  2019-01-01     赵丽颖表白冯绍峰     1      3370315   \n",
       "5  0 days 12:30:00.000000000  2019-01-01    王源眼睛被虫子咬了     1      3323069   \n",
       "\n",
       "                                                 url cele_0 cele_1  \n",
       "0  http://s.weibo.com/weibo?q=%23%E8%B5%B5%E4%B8%...    赵丽颖    NaN  \n",
       "2  http://s.weibo.com/weibo?q=%23%E5%BC%A0%E8%8B%...    张若昀    唐艺昕  \n",
       "3  http://s.weibo.com/weibo?q=%23%E4%BD%95%E7%82%...     何炅    NaN  \n",
       "4  http://s.weibo.com/weibo?q=%23%E8%B5%B5%E4%B8%...    赵丽颖    冯绍峰  \n",
       "5  http://s.weibo.com/weibo?q=%23%E7%8E%8B%E6%BA%...     王源    NaN  "
      ]
     },
     "execution_count": 29,
     "metadata": {},
     "output_type": "execute_result"
    }
   ],
   "source": [
    "# select only celebrity related hot topics\n",
    "df_cele = df[df.cele_0.notnull()]\n",
    "df_cele.head()"
   ]
  },
  {
   "cell_type": "code",
   "execution_count": 103,
   "metadata": {},
   "outputs": [
    {
     "name": "stdout",
     "output_type": "stream",
     "text": [
      "(5462,)\n"
     ]
    }
   ],
   "source": [
    "# get the list of celebrity names showed up in the list\n",
    "list_name0 = df_cele.cele_0.unique()\n",
    "list_name1 = df_cele.cele_1.unique()\n",
    "list_name = np.concatenate((list_name0, list_name1), axis=0)\n",
    "new_list = [data for data in list_name]\n",
    "list_name = np.unique(new_list)\n",
    "print(list_name.shape)"
   ]
  },
  {
   "cell_type": "code",
   "execution_count": 109,
   "metadata": {},
   "outputs": [
    {
     "name": "stderr",
     "output_type": "stream",
     "text": [
      "/usr/local/lib/python3.7/site-packages/ipykernel_launcher.py:3: UserWarning: Boolean Series key will be reindexed to match DataFrame index.\n",
      "  This is separate from the ipykernel package so we can avoid doing imports until\n"
     ]
    }
   ],
   "source": [
    "# select specific name\n",
    "name='李沁'\n",
    "df_name = df_cele[(df.cele_0==name) | (df.cele_1==name)]"
   ]
  },
  {
   "cell_type": "code",
   "execution_count": 114,
   "metadata": {},
   "outputs": [
    {
     "data": {
      "text/plain": [
       "李沁体重             1\n",
       "李沁 黄色轻纱裙         1\n",
       "李沁最美表演           1\n",
       "李沁造型             1\n",
       "李沁金鹤奖最佳女配角       1\n",
       "李沁 陆雪琪           1\n",
       "李沁戏份             1\n",
       "李沁 好通透一女的        1\n",
       "李沁当空姐            1\n",
       "邓伦李沁             1\n",
       "李沁求生欲            1\n",
       "李沁是重点培养的闺门旦苗子    2\n",
       "李沁说哭就哭了          2\n",
       "李沁否认与邓伦恋情        2\n",
       "李沁粉丝 庆余年作者       2\n",
       "李沁方辟谣            2\n",
       "李沁跳水袖舞撩王一博       2\n",
       "肖战搂李沁脖子          2\n",
       "李沁谈陆雪琪           2\n",
       "李沁 腿             2\n",
       "李沁枫叶色眼妆          2\n",
       "李沁旗袍造型           2\n",
       "Name: keyword, dtype: int64"
      ]
     },
     "execution_count": 114,
     "metadata": {},
     "output_type": "execute_result"
    }
   ],
   "source": [
    "df_name['keyword'].value_counts().sort_values()\n"
   ]
  },
  {
   "cell_type": "code",
   "execution_count": 115,
   "metadata": {},
   "outputs": [
    {
     "data": {
      "text/plain": [
       "33"
      ]
     },
     "execution_count": 115,
     "metadata": {},
     "output_type": "execute_result"
    }
   ],
   "source": [
    "df_name['keyword'].value_counts().sum()"
   ]
  },
  {
   "cell_type": "code",
   "execution_count": 116,
   "metadata": {},
   "outputs": [
    {
     "data": {
      "text/plain": [
       "keyword\n",
       "李沁 陆雪琪            366224\n",
       "李沁方辟谣             838436\n",
       "李沁 腿              924056\n",
       "李沁 好通透一女的        1003514\n",
       "李沁当空姐            1187541\n",
       "李沁旗袍造型           1193113\n",
       "李沁 黄色轻纱裙         1345631\n",
       "李沁造型             1474271\n",
       "李沁谈陆雪琪           1630278\n",
       "李沁粉丝 庆余年作者       1766875\n",
       "李沁最美表演           2082278\n",
       "李沁枫叶色眼妆          2142801\n",
       "李沁否认与邓伦恋情        2167299\n",
       "李沁金鹤奖最佳女配角       2368103\n",
       "李沁戏份             3385265\n",
       "李沁跳水袖舞撩王一博       3410448\n",
       "李沁体重             4731562\n",
       "李沁求生欲            4776536\n",
       "邓伦李沁             4859427\n",
       "肖战搂李沁脖子          5467557\n",
       "李沁说哭就哭了          5721597\n",
       "李沁是重点培养的闺门旦苗子    6637101\n",
       "Name: searchCount, dtype: int64"
      ]
     },
     "execution_count": 116,
     "metadata": {},
     "output_type": "execute_result"
    }
   ],
   "source": [
    "df_name.groupby('keyword')['searchCount'].sum().sort_values()"
   ]
  },
  {
   "cell_type": "code",
   "execution_count": 130,
   "metadata": {},
   "outputs": [
    {
     "data": {
      "text/plain": [
       "544645"
      ]
     },
     "execution_count": 130,
     "metadata": {},
     "output_type": "execute_result"
    }
   ],
   "source": [
    "df_name['searchCount'].sum()"
   ]
  },
  {
   "cell_type": "markdown",
   "metadata": {},
   "source": [
    "### Popular Name List (PNL)\n",
    "To get the list of most popular names of 2019, I have used two numbers. \n",
    "1. The number of times a particular name showed up in the Hot Topic\n",
    "2. The sum of all the searches related to a particular name\n",
    "\n",
    "Based on the above numbers, the following two criteria garuantee a place in the PNL. \n",
    "1. the first number has to be above 120, meaning on average every three days those names showed up in the Hot Topic.\n",
    "2. the division of the second and the first number should be above 1 million. This is an arbitrary number chosen to find the average number of searchse per topic is rather high. This ratio is a pretty good indicator of ability to attract volume. "
   ]
  },
  {
   "cell_type": "code",
   "execution_count": 132,
   "metadata": {},
   "outputs": [
    {
     "name": "stdout",
     "output_type": "stream",
     "text": [
      "Name Times Total Nbr of Search Average Nbr of Search\n"
     ]
    },
    {
     "name": "stderr",
     "output_type": "stream",
     "text": [
      "/usr/local/lib/python3.7/site-packages/ipykernel_launcher.py:3: UserWarning: Boolean Series key will be reindexed to match DataFrame index.\n",
      "  This is separate from the ipykernel package so we can avoid doing imports until\n",
      "/usr/local/lib/python3.7/site-packages/ipykernel_launcher.py:6: RuntimeWarning: invalid value encountered in long_scalars\n",
      "  \n"
     ]
    },
    {
     "name": "stdout",
     "output_type": "stream",
     "text": [
      "吴亦凡 191 236918401 1240410.4764397906\n",
      "周杰伦 260 283791236 1091504.7538461538\n",
      "张艺兴 190 236056497 1242402.6157894738\n",
      "易烊千玺 237 240783870 1015965.6962025317\n",
      "李现 161 234247419 1454952.9130434783\n",
      "杨幂 173 297141946 1717583.5028901733\n",
      "杨紫 138 244964594 1775105.7536231885\n",
      "王一博 236 307838569 1304400.7161016949\n",
      "王俊凯 176 208282435 1183422.9261363635\n",
      "王源 149 184877930 1240791.476510067\n",
      "肖战 255 260162828 1020246.3843137255\n",
      "郑爽 134 206873082 1543828.9701492537\n",
      "鹿晗 129 165462782 1282657.2248062016\n"
     ]
    }
   ],
   "source": [
    "print('Name', 'Times', 'Total Nbr of Search', 'Average Nbr of Search')\n",
    "for name in list_name:\n",
    "    df_name = df_cele[(df.cele_0==name) | (df.cele_1==name)]\n",
    "    num_search = df_name['keyword'].value_counts().sum()\n",
    "    total_search = df_name['searchCount'].sum()\n",
    "    if  total_search/num_search > 1000000 and num_search > 120:\n",
    "        print(name, num_search, total_search, total_search/num_search)"
   ]
  },
  {
   "cell_type": "code",
   "execution_count": 112,
   "metadata": {},
   "outputs": [
    {
     "name": "stdout",
     "output_type": "stream",
     "text": [
      "<class 'numpy.int64'> 33\n"
     ]
    }
   ],
   "source": [
    "x = df_name['keyword'].value_counts().sum()\n",
    "print(type(x), x)"
   ]
  },
  {
   "cell_type": "code",
   "execution_count": null,
   "metadata": {},
   "outputs": [],
   "source": []
  }
 ],
 "metadata": {
  "kernelspec": {
   "display_name": "venv",
   "language": "python",
   "name": "venv"
  },
  "language_info": {
   "codemirror_mode": {
    "name": "ipython",
    "version": 3
   },
   "file_extension": ".py",
   "mimetype": "text/x-python",
   "name": "python",
   "nbconvert_exporter": "python",
   "pygments_lexer": "ipython3",
   "version": "3.7.5"
  }
 },
 "nbformat": 4,
 "nbformat_minor": 2
}
